{
 "cells": [
  {
   "cell_type": "code",
   "execution_count": 256,
   "id": "ac251096",
   "metadata": {},
   "outputs": [],
   "source": [
    "import os\n",
    "import librosa\n",
    "import librosa.display\n",
    "import matplotlib.pyplot as plt\n",
    "import numpy as np\n",
    "import random\n",
    "import pandas as pd\n",
    "import soundfile as sf\n",
    "import noisereduce as nr\n",
    "from sklearn.model_selection import train_test_split\n",
    "from sklearn.svm import SVC\n",
    "from sklearn.neural_network import MLPClassifier\n",
    "from sklearn.metrics import accuracy_score\n",
    "from sklearn.neighbors import KNeighborsClassifier, KernelDensity\n",
    "from sklearn.metrics import *\n",
    "from scipy.stats import ttest_rel"
   ]
  },
  {
   "cell_type": "code",
   "execution_count": 217,
   "id": "dbeb4e8d",
   "metadata": {},
   "outputs": [],
   "source": [
    "class ProbabilisticNeuralNetwork:\n",
    "    def __init__(self):\n",
    "        self.classes_ = None\n",
    "        self.models_ = None\n",
    "    \n",
    "    def fit(self, X_train, y_train):\n",
    "        self.classes_ = np.unique(y_train)\n",
    "        self.models_ = {}\n",
    "        for c in self.classes_:\n",
    "            class_indices = (y_train == c)\n",
    "            class_data = X_train[class_indices]\n",
    "            self.models_[c] = KernelDensity().fit(class_data)\n",
    "    \n",
    "    def predict_proba(self, X_test):\n",
    "        probas = np.zeros((len(X_test), len(self.classes_)))\n",
    "        for i, c in enumerate(self.classes_):\n",
    "            probas[:, i] = np.exp(self.models_[c].score_samples(X_test))\n",
    "        return probas / np.sum(probas, axis=1, keepdims=True)\n",
    "    \n",
    "    def predict(self, X_test):\n",
    "        probas = self.predict_proba(X_test)\n",
    "        return np.argmax(probas, axis=1)"
   ]
  },
  {
   "cell_type": "code",
   "execution_count": 218,
   "id": "185330ea",
   "metadata": {},
   "outputs": [],
   "source": [
    "def generate_spectrogram(audio_file, output_path, flag):\n",
    "    y, sr = librosa.load(audio_file)\n",
    "    \n",
    "    min_audio_length = 10 * sr\n",
    "    start_point = 0\n",
    "    y_segment = y[start_point:start_point + min_audio_length]\n",
    "    \n",
    "    spectrogram = librosa.feature.melspectrogram(y=y_segment, sr=sr)\n",
    "    spectrogram_db = librosa.power_to_db(spectrogram, ref=np.max)\n",
    "    \n",
    "    plt.figure(figsize=(10, 4))\n",
    "    librosa.display.specshow(spectrogram_db, sr=sr, x_axis='time', y_axis='mel')\n",
    "    plt.colorbar(format='%+2.0f dB')\n",
    "    plt.title('Mel Spectrogram')\n",
    "    plt.tight_layout()\n",
    "    plt.savefig(output_path)\n",
    "    plt.close()"
   ]
  },
  {
   "cell_type": "code",
   "execution_count": 219,
   "id": "2f8c6ee4",
   "metadata": {},
   "outputs": [],
   "source": [
    "def shorten_audio(audio_file):\n",
    "    y, sr = librosa.load(audio_file)\n",
    "    min_audio_length = 12 * sr\n",
    "    if len(y) < min_audio_length:\n",
    "        return\n",
    "    start_point = random.randint(0, len(y) - min_audio_length)\n",
    "    y_segment = y[start_point:start_point + min_audio_length]\n",
    "    sf.write(audio_file, y_segment, sr, format='wav')\n"
   ]
  },
  {
   "cell_type": "code",
   "execution_count": 220,
   "id": "03605b5d",
   "metadata": {},
   "outputs": [],
   "source": [
    "def remove_noise_and_save(input_folder, output_folder):\n",
    "    for filename in os.listdir(input_folder):\n",
    "        if filename.endswith('.mp3'):\n",
    "            input_file = os.path.join(input_folder, filename)\n",
    "            output_file = os.path.join(output_folder, filename)\n",
    "            audio_data, sample_rate = sf.read(input_file)\n",
    "            reduced_noise = nr.reduce_noise(y=audio_data, sr=sample_rate, stationary=True) # Perform noise reduction\n",
    "            sf.write(output_file, reduced_noise, sample_rate)"
   ]
  },
  {
   "cell_type": "code",
   "execution_count": 251,
   "id": "08686a4e",
   "metadata": {},
   "outputs": [],
   "source": [
    "def draw_confusion_matrix(classifier, X_test, y_test, labels):\n",
    "    disp = plot_confusion_matrix(classifier, X_test, y_test, display_labels=labels, cmap=plt.cm.Blues)\n",
    "    disp.ax_.set_title(\"Confusion Matrix\")\n",
    "    plt.show()"
   ]
  },
  {
   "cell_type": "code",
   "execution_count": 221,
   "id": "53a449fe",
   "metadata": {},
   "outputs": [],
   "source": [
    "asd_folder = 'asd_speech'\n",
    "normal_folder = 'normal_speech'"
   ]
  },
  {
   "cell_type": "code",
   "execution_count": 222,
   "id": "1a474226",
   "metadata": {},
   "outputs": [],
   "source": [
    "output_asd_folder = 'asd_spectrograms'\n",
    "output_normal_folder = 'normal_spectrograms'\n",
    "os.makedirs(output_asd_folder, exist_ok=True)\n",
    "os.makedirs(output_normal_folder, exist_ok=True)"
   ]
  },
  {
   "cell_type": "code",
   "execution_count": 223,
   "id": "bf666bd8",
   "metadata": {},
   "outputs": [],
   "source": [
    "for filename in os.listdir(asd_folder):\n",
    "    if filename.endswith('.mp3'):\n",
    "        audio_file = os.path.join(asd_folder, filename)\n",
    "        shorten_audio(audio_file)"
   ]
  },
  {
   "cell_type": "code",
   "execution_count": 224,
   "id": "678cf9bd",
   "metadata": {},
   "outputs": [],
   "source": [
    "remove_noise_and_save(asd_folder, asd_folder)\n",
    "remove_noise_and_save(normal_folder, normal_folder)"
   ]
  },
  {
   "cell_type": "code",
   "execution_count": 276,
   "id": "9f1207b5",
   "metadata": {},
   "outputs": [],
   "source": [
    "for filename in os.listdir(asd_folder):\n",
    "    if filename.endswith('.mp3'):\n",
    "        audio_file = os.path.join(asd_folder, filename)\n",
    "        output_path = os.path.join(output_asd_folder, os.path.splitext(filename)[0] + '.png')\n",
    "        generate_spectrogram(audio_file, output_path, 1)\n",
    "x\n",
    "for filename in os.listdir(normal_folder):\n",
    "    if filename.endswith('.mp3'):\n",
    "        audio_file = os.path.join(normal_folder, filename)\n",
    "        output_path = os.path.join(output_normal_folder, os.path.splitext(filename)[0] + '.png')\n",
    "        generate_spectrogram(audio_file, output_path, 0)"
   ]
  },
  {
   "cell_type": "code",
   "execution_count": 225,
   "id": "413517eb",
   "metadata": {},
   "outputs": [],
   "source": [
    "def extract_features(audio_file):\n",
    "    y, sr = librosa.load(audio_file)\n",
    "\n",
    "    f0, voiced_flag, voiced_probs = librosa.pyin(y, fmin=75, fmax=600)\n",
    "    soe = np.mean(librosa.feature.rms(y=y))\n",
    "\n",
    "    # First five formant frequencies \n",
    "    formants = librosa.effects.harmonic(y)\n",
    "    formants_freq = librosa.effects.harmonic(y)\n",
    "    formants_freq = formants_freq[:5] if len(formants_freq) >= 5 else np.pad(formants_freq, (0, 5-len(formants_freq)))\n",
    "    # Dominant frequencies\n",
    "    mfccs = librosa.feature.mfcc(y=y, sr=sr, n_mfcc=13)\n",
    "    fd1 = np.mean(np.max(mfccs[1:], axis=1))\n",
    "    fd2 = np.mean(np.max(mfccs[2:], axis=1))\n",
    "    # Zero Crossing Rate (ZCR)\n",
    "    zcr = np.mean(librosa.feature.zero_crossing_rate(y))\n",
    "    # Energy (E)\n",
    "    energy = np.mean(librosa.feature.rms(y=y))\n",
    "    # Mel-Frequency Cepstral Coefficients (MFCC)\n",
    "    mfcc = librosa.feature.mfcc(y=y, sr=sr, n_mfcc=13)\n",
    "    # Linear Predictive Cepstral Coefficients (LPCC)\n",
    "    lpcc = librosa.feature.mfcc(y=y, sr=sr, n_mfcc=13)\n",
    "    \n",
    "    # Concatenate features into a single array\n",
    "    features = np.concatenate([[soe], [fd1, fd2, zcr, energy], mfcc.mean(axis=1)])\n",
    "    return features"
   ]
  },
  {
   "cell_type": "code",
   "execution_count": 226,
   "id": "04d5708b",
   "metadata": {},
   "outputs": [],
   "source": [
    "asd_output_file = 'asd_features.csv'\n",
    "normal_output_file = 'normal_features.csv'\n",
    "\n",
    "# Initialize dataframes to store features\n",
    "asd_features_df = pd.DataFrame()\n",
    "normal_features_df = pd.DataFrame()"
   ]
  },
  {
   "cell_type": "code",
   "execution_count": 227,
   "id": "bfb5aadc",
   "metadata": {},
   "outputs": [],
   "source": [
    "temp_asd_df = []\n",
    "\n",
    "for filename in os.listdir(asd_folder):\n",
    "    if filename.endswith('.mp3'):\n",
    "        audio_file = os.path.join(asd_folder, filename)\n",
    "        features = extract_features(audio_file)\n",
    "        temp_asd_df.append(pd.DataFrame([features]))\n",
    "        \n",
    "asd_features_df = pd.concat(temp_asd_df, ignore_index=True)"
   ]
  },
  {
   "cell_type": "code",
   "execution_count": 228,
   "id": "24fa89ea",
   "metadata": {
    "scrolled": true
   },
   "outputs": [],
   "source": [
    "temp_normal_df = []\n",
    "\n",
    "for filename in os.listdir(normal_folder):\n",
    "    if filename.endswith('.mp3'):\n",
    "        audio_file = os.path.join(normal_folder, filename)\n",
    "        features = extract_features(audio_file)\n",
    "        temp_normal_df.append(pd.DataFrame([features]))\n",
    "\n",
    "normal_features_df = pd.concat(temp_normal_df, ignore_index=True)"
   ]
  },
  {
   "cell_type": "code",
   "execution_count": 229,
   "id": "2fbbea05",
   "metadata": {},
   "outputs": [],
   "source": [
    "asd_features_df.to_csv(os.path.join(output_asd_folder, 'asd_features.csv'), index=False)\n",
    "normal_features_df.to_csv(os.path.join(output_normal_folder, 'normal_features.csv'), index=False)"
   ]
  },
  {
   "cell_type": "code",
   "execution_count": 230,
   "id": "44b8fe35",
   "metadata": {},
   "outputs": [],
   "source": [
    "combined_df = pd.concat([asd_features_df.assign(label='asd'), normal_features_df.assign(label='normal')])"
   ]
  },
  {
   "cell_type": "code",
   "execution_count": 273,
   "id": "c403c015",
   "metadata": {},
   "outputs": [
    {
     "data": {
      "text/plain": [
       "0.9530516431924883"
      ]
     },
     "execution_count": 273,
     "metadata": {},
     "output_type": "execute_result"
    }
   ],
   "source": [
    "X = combined_df.drop('label', axis=1)\n",
    "y = combined_df['label']\n",
    "\n",
    "X_train, X_test, y_train, y_test = train_test_split(X, y, test_size=0.25, random_state=42)\n",
    "\n",
    "svm_classifier = SVC(kernel='poly', degree=3)\n",
    "svm_classifier.fit(X_train, y_train)\n",
    "y_pred = svm_classifier.predict(X_test)\n",
    "accuracy = accuracy_score(y_test, y_pred)\n",
    "\n",
    "accuracy"
   ]
  },
  {
   "cell_type": "code",
   "execution_count": 248,
   "id": "ab3f19d5",
   "metadata": {},
   "outputs": [
    {
     "data": {
      "text/plain": [
       "0.9577464788732394"
      ]
     },
     "execution_count": 248,
     "metadata": {},
     "output_type": "execute_result"
    }
   ],
   "source": [
    "pnn_classifier = ProbabilisticNeuralNetwork()\n",
    "pnn_classifier.fit(X_train, y_train)\n",
    "\n",
    "# Convert categorical labels to numeric labels for y_test\n",
    "label_mapping = {'asd': 0, 'normal': 1}\n",
    "y_test_numeric = np.array([label_mapping[label] for label in y_test])\n",
    "\n",
    "y_pred_pnn = pnn_classifier.predict(X_test)\n",
    "\n",
    "# Convert numeric labels to categorical labels for y_pred_pnn\n",
    "label_mapping_inverse = {0: 'asd', 1: 'normal'}\n",
    "y_pred_pnn_categorical = np.array([label_mapping_inverse[label] for label in y_pred_pnn])\n",
    "\n",
    "accuracy_pnn = accuracy_score(y_test_numeric, y_pred_pnn)\n",
    "\n",
    "accuracy_pnn"
   ]
  },
  {
   "cell_type": "code",
   "execution_count": 249,
   "id": "e8ddc31c",
   "metadata": {},
   "outputs": [
    {
     "data": {
      "text/plain": [
       "0.971830985915493"
      ]
     },
     "execution_count": 249,
     "metadata": {},
     "output_type": "execute_result"
    }
   ],
   "source": [
    "mlp_classifier = MLPClassifier(hidden_layer_sizes=(100,), max_iter=1000)\n",
    "mlp_classifier.fit(X_train, y_train)\n",
    "\n",
    "y_pred_mlp = mlp_classifier.predict(X_test)\n",
    "accuracy_mlp = accuracy_score(y_test, y_pred_mlp)\n",
    "\n",
    "accuracy_mlp"
   ]
  },
  {
   "cell_type": "code",
   "execution_count": 238,
   "id": "b4c80129",
   "metadata": {},
   "outputs": [
    {
     "data": {
      "text/plain": [
       "0.9765258215962441"
      ]
     },
     "execution_count": 238,
     "metadata": {},
     "output_type": "execute_result"
    }
   ],
   "source": [
    "knn_classifier = KNeighborsClassifier(n_neighbors=5)\n",
    "knn_classifier.fit(X_train, y_train)\n",
    "y_pred_knn = knn_classifier.predict(X_test)\n",
    "accuracy_knn = accuracy_score(y_test, y_pred_knn)\n",
    "\n",
    "accuracy_knn"
   ]
  },
  {
   "cell_type": "code",
   "execution_count": 266,
   "id": "e04440c0",
   "metadata": {},
   "outputs": [],
   "source": [
    "def evaluate_model(classifier, X_test, y_test, y_pred):\n",
    "    # Calculate accuracy\n",
    "    accuracy = accuracy_score(y_test, y_pred)\n",
    "    \n",
    "    # Calculate precision\n",
    "    precision = precision_score(y_test, y_pred, average='weighted')\n",
    "    \n",
    "    # Calculate recall\n",
    "    recall = recall_score(y_test, y_pred, average='weighted')\n",
    "    \n",
    "    # Calculate F1 score\n",
    "    f1 = f1_score(y_test, y_pred, average='weighted')\n",
    "    label_mapping = {'asd': 1, 'normal': 0}\n",
    "    \n",
    "    # Convert string labels to numeric labels\n",
    "    y_test_li = [label_mapping[val] if isinstance(val, str) else val for val in y_test]\n",
    "    y_pred_li = [label_mapping[val] if isinstance(val, str) else val for val in y_pred]\n",
    "            \n",
    "            \n",
    "    p_value = ttest_rel(y_test_li, y_pred_li).pvalue\n",
    "    \n",
    "    return accuracy, precision, recall, f1, p_value\n"
   ]
  },
  {
   "cell_type": "code",
   "execution_count": 275,
   "id": "967a6c29",
   "metadata": {},
   "outputs": [
    {
     "name": "stdout",
     "output_type": "stream",
     "text": [
      "SVM Metrics:\n",
      "Accuracy: 0.9530516431924883\n",
      "Precision: 0.9083074345919019\n",
      "Recall: 0.9530516431924883\n",
      "F1 Score: 0.930141747923438\n",
      "p-value: 0.001427169295636645\n"
     ]
    },
    {
     "name": "stderr",
     "output_type": "stream",
     "text": [
      "/Users/divyanshtripathi/opt/anaconda3/lib/python3.9/site-packages/sklearn/metrics/_classification.py:1318: UndefinedMetricWarning: Precision is ill-defined and being set to 0.0 in labels with no predicted samples. Use `zero_division` parameter to control this behavior.\n",
      "  _warn_prf(average, modifier, msg_start, len(result))\n"
     ]
    }
   ],
   "source": [
    "# Evaluate SVM model\n",
    "accuracy_svm, precision_svm, recall_svm, f1_svm, p_value_svm = evaluate_model(svm_classifier, X_test, y_test, y_pred)\n",
    "print(\"SVM Metrics:\")\n",
    "print(\"Accuracy:\", accuracy_svm)\n",
    "print(\"Precision:\", precision_svm)\n",
    "print(\"Recall:\", recall_svm)\n",
    "print(\"F1 Score:\", f1_svm)\n",
    "print(\"p-value:\", p_value_svm)\n"
   ]
  },
  {
   "cell_type": "code",
   "execution_count": 268,
   "id": "f2c6e2b4",
   "metadata": {},
   "outputs": [
    {
     "name": "stdout",
     "output_type": "stream",
     "text": [
      "\n",
      "MLP Metrics:\n",
      "Accuracy: 0.971830985915493\n",
      "Precision: 0.9691547027738088\n",
      "Recall: 0.971830985915493\n",
      "F1 Score: 0.9684472689797321\n",
      "p-value: 0.10260257000434293\n"
     ]
    }
   ],
   "source": [
    "# Evaluate MLP model\n",
    "accuracy_mlp, precision_mlp, recall_mlp, f1_mlp, p_value_mlp = evaluate_model(mlp_classifier, X_test, y_test, y_pred_mlp)\n",
    "print(\"\\nMLP Metrics:\")\n",
    "print(\"Accuracy:\", accuracy_mlp)\n",
    "print(\"Precision:\", precision_mlp)\n",
    "print(\"Recall:\", recall_mlp)\n",
    "print(\"F1 Score:\", f1_mlp)\n",
    "print(\"p-value:\", p_value_mlp)\n"
   ]
  },
  {
   "cell_type": "code",
   "execution_count": 269,
   "id": "608b3f14",
   "metadata": {},
   "outputs": [
    {
     "name": "stdout",
     "output_type": "stream",
     "text": [
      "\n",
      "KNN Metrics:\n",
      "Accuracy: 0.9765258215962441\n",
      "Precision: 0.9770901047309497\n",
      "Recall: 0.9765258215962441\n",
      "F1 Score: 0.9727562455022103\n",
      "p-value: 0.02499797097519792\n"
     ]
    }
   ],
   "source": [
    "# Evaluate KNN model\n",
    "accuracy_knn, precision_knn, recall_knn, f1_knn, p_value_knn = evaluate_model(knn_classifier, X_test, y_test, y_pred_knn)\n",
    "print(\"\\nKNN Metrics:\")\n",
    "print(\"Accuracy:\", accuracy_knn)\n",
    "print(\"Precision:\", precision_knn)\n",
    "print(\"Recall:\", recall_knn)\n",
    "print(\"F1 Score:\", f1_knn)\n",
    "print(\"p-value:\", p_value_knn)"
   ]
  },
  {
   "cell_type": "code",
   "execution_count": 270,
   "id": "0b224467",
   "metadata": {},
   "outputs": [
    {
     "name": "stdout",
     "output_type": "stream",
     "text": [
      "\n",
      "PNN Metrics:\n",
      "Accuracy: 0.9577464788732394\n",
      "Precision: 0.949146803900325\n",
      "Recall: 0.9577464788732394\n",
      "F1 Score: 0.9509612419039785\n",
      "p-value: 0.09566452788671304\n"
     ]
    }
   ],
   "source": [
    "# Evaluate PNN model\n",
    "accuracy_pnn, precision_pnn, recall_pnn, f1_pnn, p_value_pnn = evaluate_model(pnn_classifier, X_test, y_test_numeric, y_pred_pnn)\n",
    "print(\"\\nPNN Metrics:\")\n",
    "print(\"Accuracy:\", accuracy_pnn)\n",
    "print(\"Precision:\", precision_pnn)\n",
    "print(\"Recall:\", recall_pnn)\n",
    "print(\"F1 Score:\", f1_pnn)\n",
    "print(\"p-value:\", p_value_pnn)"
   ]
  }
 ],
 "metadata": {
  "kernelspec": {
   "display_name": "Python 3 (ipykernel)",
   "language": "python",
   "name": "python3"
  },
  "language_info": {
   "codemirror_mode": {
    "name": "ipython",
    "version": 3
   },
   "file_extension": ".py",
   "mimetype": "text/x-python",
   "name": "python",
   "nbconvert_exporter": "python",
   "pygments_lexer": "ipython3",
   "version": "3.9.12"
  }
 },
 "nbformat": 4,
 "nbformat_minor": 5
}
